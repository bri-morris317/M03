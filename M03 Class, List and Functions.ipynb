{
 "cells": [
  {
   "cell_type": "code",
   "execution_count": null,
   "id": "f521eb48",
   "metadata": {},
   "outputs": [],
   "source": [
    "class Vehicle:\n",
    "\n",
    "    class Automobile(Vehicle):\n",
    "        def __init__(automobile, style, year, make, model, doors, roof):\n",
    "            automobile.style\n",
    "            automobile.year\n",
    "            automobile.make\n",
    "            automobile.model\n",
    "            automobile.doors\n",
    "            automobile.roof\n",
    "            \n",
    "style = input(\"Please enter your vehicle style: \")\n",
    "year = input(\"Please enter your vehicle year: \")\n",
    "make = input(\"Please enter your vehicle make: \")\n",
    "model = input(\"Please enter your vehicle model: \")\n",
    "doors = input(\"How many doors does your vehicle have: \")\n",
    "roof = input(\"What kind of roof does your vehicle have: \")\n",
    "\n",
    "long_list = [\"Vehicle Style: \", style, \"Vehicle Year: \", year, \"Vehicle Make: \", make, \n",
    "             \"Vehicle Model: \", model, \"Vehicle Doors: \", doors, \"Vehicle Roof: \", roof]\n",
    "\n",
    "print(long_list)"
   ]
  },
  {
   "cell_type": "code",
   "execution_count": null,
   "id": "bf548ad2",
   "metadata": {},
   "outputs": [],
   "source": []
  }
 ],
 "metadata": {
  "kernelspec": {
   "display_name": "Python 3 (ipykernel)",
   "language": "python",
   "name": "python3"
  },
  "language_info": {
   "codemirror_mode": {
    "name": "ipython",
    "version": 3
   },
   "file_extension": ".py",
   "mimetype": "text/x-python",
   "name": "python",
   "nbconvert_exporter": "python",
   "pygments_lexer": "ipython3",
   "version": "3.9.13"
  }
 },
 "nbformat": 4,
 "nbformat_minor": 5
}
